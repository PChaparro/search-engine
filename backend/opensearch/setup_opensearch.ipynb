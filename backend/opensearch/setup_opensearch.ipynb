{
 "cells": [
  {
   "cell_type": "markdown",
   "id": "a5fd48d7",
   "metadata": {},
   "source": [
    "## Install and import packages"
   ]
  },
  {
   "cell_type": "code",
   "execution_count": null,
   "id": "992c27cb",
   "metadata": {},
   "outputs": [],
   "source": [
    "!pip install opensearch-py\n",
    "!pip install sentence-transformers\n",
    "!pip install pandas"
   ]
  },
  {
   "cell_type": "code",
   "execution_count": null,
   "id": "e50d74c7",
   "metadata": {},
   "outputs": [],
   "source": [
    "import json\n",
    "import pandas as pd\n",
    "import time\n",
    "import math\n",
    "from opensearchpy import OpenSearch\n",
    "from opensearchpy import helpers\n",
    "from sentence_transformers import SentenceTransformer\n",
    "transformer_model = SentenceTransformer('paraphrase-multilingual-MiniLM-L12-v2')"
   ]
  },
  {
   "cell_type": "markdown",
   "id": "229b3b4c",
   "metadata": {},
   "source": [
    "## Connect to open search"
   ]
  },
  {
   "cell_type": "code",
   "execution_count": null,
   "id": "b4721352",
   "metadata": {},
   "outputs": [],
   "source": [
    "# Connection variables\n",
    "host = 'localhost'\n",
    "port = '9200'\n",
    "auth = ('admin', 'admin')\n",
    "\n",
    "# Connect\n",
    "client = OpenSearch(\n",
    "    timeout = 300,\n",
    "    hosts = [{'host': host, 'port': port}],\n",
    "    http_compress = True, \n",
    "    http_auth = auth,\n",
    "    use_ssl = False,\n",
    "    verify_cers = False,\n",
    ")\n",
    "\n",
    "client.ping()"
   ]
  },
  {
   "cell_type": "markdown",
   "id": "2aefea1d",
   "metadata": {},
   "source": [
    "## Read json file and add vector column"
   ]
  },
  {
   "cell_type": "code",
   "execution_count": null,
   "id": "22705a78",
   "metadata": {},
   "outputs": [],
   "source": [
    "# Read json as pandas dataframe\n",
    "file = open('../../data/cleansing/data.json')\n",
    "data = json.load(file)\n",
    "df = pd.DataFrame(data)\n",
    "df"
   ]
  },
  {
   "cell_type": "code",
   "execution_count": null,
   "id": "93a729c4",
   "metadata": {},
   "outputs": [],
   "source": [
    "# Add the vector column\n",
    "df_bk = df.copy()\n",
    "df_bk = df_bk.assign(vector=\"\")\n",
    "df_bk"
   ]
  },
  {
   "cell_type": "code",
   "execution_count": null,
   "id": "97aabe1c",
   "metadata": {},
   "outputs": [],
   "source": [
    "# Create the vector values\n",
    "for index in df_bk.index:\n",
    "    title = df_bk['title'][index]\n",
    "    description = df_bk['description'][index]\n",
    "    tags = df_bk['tags'][index]\n",
    "    \n",
    "    # Create a single string with all the text columns included\n",
    "    bundle = title + ' ' + description\n",
    "    \n",
    "    for tag in tags:\n",
    "        bundle += ' ' + tag\n",
    "    \n",
    "    # Transform the single string into vector\n",
    "    vector = transformer_model.encode(bundle)\n",
    "    df_bk['vector'][index] = vector\n",
    "    \n",
    "df_bk"
   ]
  },
  {
   "cell_type": "markdown",
   "id": "2cf6232f",
   "metadata": {},
   "source": [
    "## Create opensearch index"
   ]
  },
  {
   "cell_type": "code",
   "execution_count": null,
   "id": "d117a395",
   "metadata": {},
   "outputs": [],
   "source": [
    "index_name = 'videos'\n",
    "\n",
    "index_body = {\n",
    "    'settings': {\n",
    "        'index': {\n",
    "            'number_of_shards': 20, \n",
    "            'number_of_replicas': 1,\n",
    "            'knn': {\n",
    "                'algo_param': {\n",
    "                    # Default 512: https://opensearch.org/docs/latest/search-plugins/knn/knn-index#method-definitions\n",
    "                    # Higher values lead to more accurate but slower searches.\n",
    "                    'ef_search': 256, \n",
    "                    # Using during graph creation\n",
    "                    'ef_construction': 256, \n",
    "                    # Bidirectional links for each element\n",
    "                    'm': 4 \n",
    "                }\n",
    "            }\n",
    "        },\n",
    "        'knn': 'true'\n",
    "    },\n",
    "    'mappings': {\n",
    "        'properties': {\n",
    "            'url': {\n",
    "                'type': 'text'\n",
    "            },\n",
    "            'thumbnail': {\n",
    "                'type': 'text'\n",
    "            },\n",
    "            'title': {\n",
    "                'type': 'text'\n",
    "            }, \n",
    "            'description': {\n",
    "                'type': 'text'\n",
    "            },\n",
    "            'tags': {\n",
    "                # Text type can be used as array\n",
    "                'type': 'text'\n",
    "            }, \n",
    "            'vector': {\n",
    "                'type': 'knn_vector', \n",
    "                'dimension': 384\n",
    "            }\n",
    "        }\n",
    "    }\n",
    "}\n",
    "\n",
    "# Delete index if exists\n",
    "if(client.indices.exists(index=index_name)):\n",
    "    client.indices.delete(index=index_name)\n",
    "\n",
    "# Create the index\n",
    "reply = client.indices.create(index_name, index_body)\n",
    "print(reply)"
   ]
  },
  {
   "cell_type": "code",
   "execution_count": null,
   "id": "b8bbc1ad",
   "metadata": {},
   "outputs": [],
   "source": [
    "# Creating python array to bulk multile data at same time\n",
    "data = []\n",
    "\n",
    "for index in df_bk.index:\n",
    "    url = df_bk['url'][index]\n",
    "    thumbnail = df_bk['thumbnail'][index]\n",
    "    title = df_bk['title'][index]\n",
    "    description = df_bk['description'][index]\n",
    "    tags = df_bk['tags'][index]\n",
    "    vector = df_bk['vector'][index]\n",
    "    \n",
    "    data.append({'_index': index_name,\n",
    "                 'url': url, \n",
    "                 'thumbnail': thumbnail, \n",
    "                 'title': title, \n",
    "                 'description': description, \n",
    "                 'tags': tags, \n",
    "                 'vector': vector})"
   ]
  },
  {
   "cell_type": "code",
   "execution_count": null,
   "id": "388771a6",
   "metadata": {},
   "outputs": [],
   "source": [
    "# Bulk into opensearch\n",
    "reply = helpers.bulk(client, data, max_retries=5)"
   ]
  },
  {
   "cell_type": "code",
   "execution_count": null,
   "id": "cea837f8",
   "metadata": {},
   "outputs": [],
   "source": [
    "query = input('Enter your query: ')\n",
    "query_vector = transformer_model.encode(query)\n",
    "\n",
    "open_search_query = {\n",
    "    'size': 24, \n",
    "    # Fields than will be sended as response\n",
    "    '_source': ['url', 'thumbnail', 'title', 'tags'],\n",
    "    # Filter\n",
    "    \"query\": {\n",
    "        \"bool\": {\n",
    "            'must': [\n",
    "                {'knn': {\n",
    "                    \"vector\": {\n",
    "                        \"vector\": query_vector,\n",
    "                        \"k\": 24\n",
    "                    }\n",
    "                }}\n",
    "            ]\n",
    "        }\n",
    "    }\n",
    "}\n",
    "\n",
    "response = client.search(\n",
    "    index = index_name, \n",
    "    size = 24, \n",
    "    body = open_search_query,\n",
    "    request_timeout = 64\n",
    ")\n",
    "\n",
    "videos = [x['_source'] for x in response['hits']['hits']]\n",
    "videos"
   ]
  },
  {
   "cell_type": "code",
   "execution_count": null,
   "id": "f4f41e8a",
   "metadata": {},
   "outputs": [],
   "source": [
    "# Testing query to get random videos\n",
    "# From: https://stackoverflow.com/questions/25887850/random-document-in-elasticsearch\n",
    "\n",
    "open_search_random_query = {\n",
    "   \"size\": 24,\n",
    "    # Fields than will be sended as response\n",
    "    '_source': ['url', 'thumbnail', 'title', 'tags'],\n",
    "   \"query\": {\n",
    "      \"function_score\": {\n",
    "         \"functions\": [\n",
    "            {\n",
    "               \"random_score\": {\n",
    "                  \"seed\": math.ceil(time.time())\n",
    "               }\n",
    "            }\n",
    "         ]\n",
    "      }\n",
    "   }\n",
    "}\n",
    "\n",
    "response = client.search(\n",
    "    index = index_name, \n",
    "    body = open_search_random_query,\n",
    "    request_timeout = 64\n",
    ")\n",
    "\n",
    "videos = [x['_source'] for x in response['hits']['hits']]\n",
    "videos"
   ]
  }
 ],
 "metadata": {
  "kernelspec": {
   "display_name": "Python 3 (ipykernel)",
   "language": "python",
   "name": "python3"
  },
  "language_info": {
   "codemirror_mode": {
    "name": "ipython",
    "version": 3
   },
   "file_extension": ".py",
   "mimetype": "text/x-python",
   "name": "python",
   "nbconvert_exporter": "python",
   "pygments_lexer": "ipython3",
   "version": "3.10.6"
  }
 },
 "nbformat": 4,
 "nbformat_minor": 5
}
