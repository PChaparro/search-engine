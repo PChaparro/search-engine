{
 "cells": [
  {
   "cell_type": "code",
   "execution_count": null,
   "id": "5904217c",
   "metadata": {},
   "outputs": [],
   "source": [
    "!pip install pandas\n",
    "\n",
    "import pandas as pd\n",
    "import json\n",
    "import  re"
   ]
  },
  {
   "cell_type": "markdown",
   "id": "9b46c81c",
   "metadata": {},
   "source": [
    "## 📖 Read data from json file"
   ]
  },
  {
   "cell_type": "code",
   "execution_count": null,
   "id": "17f1373f",
   "metadata": {},
   "outputs": [],
   "source": [
    "file = open('../scraping/data.json')\n",
    "data = json.load(file)\n",
    "df = pd.DataFrame(data)\n",
    "df"
   ]
  },
  {
   "cell_type": "code",
   "execution_count": null,
   "id": "c0227e0b",
   "metadata": {},
   "outputs": [],
   "source": [
    "# Remove repeated entries\n",
    "print('Length before dropping duplicates: {}'.format(df.shape))\n",
    "df.drop_duplicates(subset=['url'], keep='first', inplace=True, ignore_index=False)\n",
    "print('Length after dropping duplicates: {}'.format(df.shape))"
   ]
  },
  {
   "cell_type": "markdown",
   "id": "2f25827d",
   "metadata": {},
   "source": [
    "## 🗑️ Delete unwanted characters"
   ]
  },
  {
   "cell_type": "code",
   "execution_count": null,
   "id": "51162dd9",
   "metadata": {},
   "outputs": [],
   "source": [
    "df_bk = df.copy()\n",
    "\n",
    "for index in df_bk.index:\n",
    "    title = df_bk['title'][index]\n",
    "    description = df_bk['description'][index]\n",
    "    tags = df_bk['tags'][index]\n",
    "    new_tags = []\n",
    "    \n",
    "    # Remove urls\n",
    "    title = re.sub(r'(http|https|www)\\S+', '', title)\n",
    "    description = re.sub(r'(http|https|www)\\S+', '', description)\n",
    "    \n",
    "    # Remove \\n texts\n",
    "    title = title.replace('\\n', ' ')\n",
    "    description = description.replace('\\n', ' ')\n",
    "    \n",
    "    # Remove non-alphanumeric chars\n",
    "    # title = re.sub(r'[^a-zA-Z0-9\\']', ' ', title)\n",
    "    description = re.sub(r'[^a-zA-Z0-9]', ' ', description)\n",
    "    \n",
    "    for tag in tags:\n",
    "        new_tag = re.sub(r'[^a-zA-Z0-9]', '', tag)\n",
    "        new_tag = re.sub(' +', ' ', new_tag) \n",
    "        new_tags.append(new_tag.)\n",
    "    \n",
    "    # Remove redundant spaces\n",
    "    title = re.sub(' +', ' ', title)\n",
    "    description = re.sub(' +', ' ', description)\n",
    "    \n",
    "    # Set new value\n",
    "    df_bk['title'][index] = title\n",
    "    df_bk['description'][index] = description\n",
    "    df_bk['tags'][index] = tags\n",
    "\n",
    "df_bk"
   ]
  },
  {
   "cell_type": "markdown",
   "id": "bb8744e4",
   "metadata": {},
   "source": [
    "## 💾 Save the new file"
   ]
  },
  {
   "cell_type": "code",
   "execution_count": null,
   "id": "1557183d",
   "metadata": {},
   "outputs": [],
   "source": [
    "df_bk.to_json('data.json', orient='records', force_ascii=False)"
   ]
  }
 ],
 "metadata": {
  "kernelspec": {
   "display_name": "Python 3 (ipykernel)",
   "language": "python",
   "name": "python3"
  },
  "language_info": {
   "codemirror_mode": {
    "name": "ipython",
    "version": 3
   },
   "file_extension": ".py",
   "mimetype": "text/x-python",
   "name": "python",
   "nbconvert_exporter": "python",
   "pygments_lexer": "ipython3",
   "version": "3.10.6"
  }
 },
 "nbformat": 4,
 "nbformat_minor": 5
}
